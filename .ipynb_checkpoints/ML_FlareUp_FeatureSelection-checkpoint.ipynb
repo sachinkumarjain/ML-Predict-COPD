{
 "cells": [
  {
   "cell_type": "markdown",
   "metadata": {},
   "source": [
    "## Feature Selection \n",
    "\n",
    "http://scikit-learn.org/stable/modules/feature_selection.html#feature-selection"
   ]
  },
  {
   "cell_type": "code",
   "execution_count": 1,
   "metadata": {},
   "outputs": [
    {
     "data": {
      "text/plain": [
       "(1687, 60)"
      ]
     },
     "execution_count": 1,
     "metadata": {},
     "output_type": "execute_result"
    }
   ],
   "source": [
    "import pandas as pd                         # pandas is a dataframe library\n",
    "import matplotlib.pyplot as plt             # matplotlib.pyplot plots data\n",
    "import numpy as np                          # numpy provides N-dim object support\n",
    "\n",
    "# do ploting inpline instead of in a separate window\n",
    "%matplotlib inline\n",
    "\n",
    "df = pd.read_csv(r'training_data.csv') # load the development data\n",
    "\n",
    "feature_col_names = ['Demo1','Demo2','Demo3','Demo4','Demo5','Demo6','DisHis1','DisHis1Times','DisHis2','DisHis2Times','DisHis3','DisHis3Times','DisHis4','DisHis5','DisHis6','DisHis7','DisStage1','DisStage2','LungFun1','LungFun10','LungFun11','LungFun12','LungFun13','LungFun14','LungFun15','LungFun16','LungFun17','LungFun18','LungFun19','LungFun2','LungFun20','LungFun3','LungFun4','LungFun5','LungFun6','LungFun7','LungFun8','LungFun9','Dis1','Dis1Treat','Dis2','Dis2Times','Dis3','Dis3Times','Dis4','Dis4Treat','Dis5','Dis5Treat','Dis6','Dis6Treat','Dis7','RespQues1','ResQues1a','ResQues1b','ResQues1c','ResQues2a','SmokHis1','SmokHis2','SmokHis3','SmokHis4']\n",
    "\n",
    "predicated_class_name = ['Flare_Up']\n",
    "\n",
    "data = df[feature_col_names].values                # predicator feature columns (60 x m)\n",
    "target = df[predicated_class_name].values\n",
    "\n",
    "X, y = data, target\n",
    "X.shape"
   ]
  },
  {
   "cell_type": "markdown",
   "metadata": {},
   "source": [
    "### SELECTING BY UNIVARIATE MEASURES\n",
    "If you decide to select a variable by its level of association with its target, the class SelectPercentile provides an automatic procedure for keeping only a certain percentage of the best, associated features. The available metrics for association are\n",
    "\n",
    "#### f_regression: \n",
    "        Used only for numeric targets and based on linear regression performance.\n",
    "\n",
    "#### f_classif:\n",
    "        Used only for categorical targets and based on the Analysis of Variance (ANOVA) statistical test.\n",
    "\n",
    "#### chi2:\n",
    "        Performs the chi-square statistic for categorical targets, which is less sensible to the nonlinear relationship between the predictive variable and its target."
   ]
  },
  {
   "cell_type": "code",
   "execution_count": 2,
   "metadata": {
    "scrolled": true
   },
   "outputs": [
    {
     "name": "stdout",
     "output_type": "stream",
     "text": [
      "F-score: 101.38 for feature DisHis1 ,\n",
      "F-score: 76.57 for feature DisHis1Times ,\n",
      "F-score: 126.57 for feature DisHis2 ,\n",
      "F-score: 111.16 for feature DisHis2Times ,\n",
      "F-score: 158.07 for feature DisHis3 ,\n",
      "F-score: 82.69 for feature DisHis3Times ,\n",
      "F-score: 124.14 for feature DisHis4 ,\n",
      "F-score: 101.38 for feature DisHis5 ,\n",
      "F-score: 121.82 for feature DisHis6 ,\n",
      "F-score: 125.38 for feature DisHis7 ,\n",
      "F-score: 46.66 for feature DisStage1 ,\n",
      "F-score: 139.24 for feature DisStage2 ,\n",
      "F-score: 70.87 for feature LungFun1 ,\n",
      "F-score: 69.70 for feature LungFun12 ,\n",
      "F-score: 39.59 for feature LungFun13 ,\n",
      "F-score: 55.85 for feature LungFun14 ,\n",
      "F-score: 57.22 for feature LungFun3 ,\n",
      "F-score: 61.49 for feature LungFun4 ,\n",
      "F-score: 37.31 for feature LungFun7 ,\n",
      "F-score: 43.49 for feature LungFun8 ,\n",
      "F-score: 72.96 for feature LungFun9 ,\n",
      "F-score: 29.46 for feature Dis1Treat ,\n",
      "F-score: 61.31 for feature Dis2Times ,\n",
      "F-score: 34.77 for feature Dis3Times ,\n",
      "F-score: 39.40 for feature Dis4Treat ,\n",
      "F-score: 53.08 for feature Dis5Treat ,\n",
      "F-score: 76.20 for feature Dis6Treat ,\n",
      "F-score: 117.61 for feature RespQues1 ,\n",
      "F-score: 120.45 for feature ResQues1a ,\n",
      "F-score: 83.28 for feature ResQues1b ,\n",
      "F-score: 102.31 for feature ResQues1c ,\n",
      "F-score: 86.16 for feature ResQues2a ,\n"
     ]
    }
   ],
   "source": [
    "from sklearn.feature_selection import SelectPercentile\n",
    "from sklearn.feature_selection import f_regression\n",
    "Selector_f = SelectPercentile(f_regression, percentile=25)\n",
    "Selector_f.fit(X,y.ravel())\n",
    "#for n,s in zip(feature_col_names,Selector_f.scores_):\n",
    "    #print(\"F-score: %3.2f for feature %s ,\" % (s,n))\n",
    "\n",
    "selected_features = []\n",
    "for n,s in zip(feature_col_names,Selector_f.scores_):\n",
    "    if(s > 25):\n",
    "        selected_features.append(n)\n",
    "        print(\"F-score: %3.2f for feature %s ,\" % (s,n))"
   ]
  },
  {
   "cell_type": "markdown",
   "metadata": {},
   "source": [
    "### Selected Feature Name from F-Squre"
   ]
  },
  {
   "cell_type": "code",
   "execution_count": 3,
   "metadata": {},
   "outputs": [
    {
     "name": "stdout",
     "output_type": "stream",
     "text": [
      "['DisHis1', 'DisHis1Times', 'DisHis2', 'DisHis2Times', 'DisHis3', 'DisHis3Times', 'DisHis4', 'DisHis5', 'DisHis6', 'DisHis7', 'DisStage1', 'DisStage2', 'LungFun1', 'LungFun12', 'LungFun13', 'LungFun14', 'LungFun3', 'LungFun4', 'LungFun7', 'LungFun8', 'LungFun9', 'Dis1Treat', 'Dis2Times', 'Dis3Times', 'Dis4Treat', 'Dis5Treat', 'Dis6Treat', 'RespQues1', 'ResQues1a', 'ResQues1b', 'ResQues1c', 'ResQues2a']\n"
     ]
    }
   ],
   "source": [
    "print(selected_features)"
   ]
  },
  {
   "cell_type": "code",
   "execution_count": null,
   "metadata": {},
   "outputs": [],
   "source": []
  },
  {
   "cell_type": "code",
   "execution_count": 4,
   "metadata": {},
   "outputs": [
    {
     "name": "stdout",
     "output_type": "stream",
     "text": [
      "Classif-score: 101.38 for feature DisHis1 ,\n",
      "Classif-score: 76.57 for feature DisHis1Times ,\n",
      "Classif-score: 126.57 for feature DisHis2 ,\n",
      "Classif-score: 111.16 for feature DisHis2Times ,\n",
      "Classif-score: 158.07 for feature DisHis3 ,\n",
      "Classif-score: 82.69 for feature DisHis3Times ,\n",
      "Classif-score: 124.14 for feature DisHis4 ,\n",
      "Classif-score: 101.38 for feature DisHis5 ,\n",
      "Classif-score: 121.82 for feature DisHis6 ,\n",
      "Classif-score: 125.38 for feature DisHis7 ,\n",
      "Classif-score: 46.66 for feature DisStage1 ,\n",
      "Classif-score: 139.24 for feature DisStage2 ,\n",
      "Classif-score: 70.87 for feature LungFun1 ,\n",
      "Classif-score: 69.70 for feature LungFun12 ,\n",
      "Classif-score: 39.59 for feature LungFun13 ,\n",
      "Classif-score: 55.85 for feature LungFun14 ,\n",
      "Classif-score: 57.22 for feature LungFun3 ,\n",
      "Classif-score: 61.49 for feature LungFun4 ,\n",
      "Classif-score: 37.31 for feature LungFun7 ,\n",
      "Classif-score: 43.49 for feature LungFun8 ,\n",
      "Classif-score: 72.96 for feature LungFun9 ,\n",
      "Classif-score: 29.46 for feature Dis1Treat ,\n",
      "Classif-score: 61.31 for feature Dis2Times ,\n",
      "Classif-score: 34.77 for feature Dis3Times ,\n",
      "Classif-score: 39.40 for feature Dis4Treat ,\n",
      "Classif-score: 53.08 for feature Dis5Treat ,\n",
      "Classif-score: 76.20 for feature Dis6Treat ,\n",
      "Classif-score: 117.61 for feature RespQues1 ,\n",
      "Classif-score: 120.45 for feature ResQues1a ,\n",
      "Classif-score: 83.28 for feature ResQues1b ,\n",
      "Classif-score: 102.31 for feature ResQues1c ,\n",
      "Classif-score: 86.16 for feature ResQues2a ,\n"
     ]
    }
   ],
   "source": [
    "from sklearn.feature_selection import SelectPercentile\n",
    "from sklearn.feature_selection import f_classif\n",
    "Selector_cif = SelectPercentile(f_classif, percentile=25)\n",
    "Selector_cif.fit(X,y.ravel())\n",
    "#for n,s in zip(feature_col_names,Selector_f.scores_):\n",
    "    #print(\"F-score: %3.2f for feature %s ,\" % (s,n))\n",
    "\n",
    "selected_features_cif = []\n",
    "for n,s in zip(feature_col_names,Selector_cif.scores_):\n",
    "    if(s > 25):\n",
    "        selected_features_cif.append(n)\n",
    "        print(\"Classif-score: %3.2f for feature %s ,\" % (s,n))"
   ]
  },
  {
   "cell_type": "code",
   "execution_count": 5,
   "metadata": {},
   "outputs": [
    {
     "name": "stdout",
     "output_type": "stream",
     "text": [
      "['DisHis1', 'DisHis1Times', 'DisHis2', 'DisHis2Times', 'DisHis3', 'DisHis3Times', 'DisHis4', 'DisHis5', 'DisHis6', 'DisHis7', 'DisStage1', 'DisStage2', 'LungFun1', 'LungFun12', 'LungFun13', 'LungFun14', 'LungFun3', 'LungFun4', 'LungFun7', 'LungFun8', 'LungFun9', 'Dis1Treat', 'Dis2Times', 'Dis3Times', 'Dis4Treat', 'Dis5Treat', 'Dis6Treat', 'RespQues1', 'ResQues1a', 'ResQues1b', 'ResQues1c', 'ResQues2a']\n"
     ]
    }
   ],
   "source": [
    "print(selected_features_cif)"
   ]
  },
  {
   "cell_type": "markdown",
   "metadata": {},
   "source": [
    "### The RFECV class, \n",
    "fitting the data, can provide you with information on the number of useful features, point them out to you, and automatically transform the X data, by the method transform, into a reduced variable set"
   ]
  },
  {
   "cell_type": "code",
   "execution_count": 6,
   "metadata": {},
   "outputs": [
    {
     "name": "stdout",
     "output_type": "stream",
     "text": [
      "Optimal number of features : 60\n"
     ]
    },
    {
     "data": {
      "image/png": "[encoded data removed]",
      "text/plain": [
       "<Figure size 432x288 with 1 Axes>"
      ]
     },
     "metadata": {
      "needs_background": "light"
     },
     "output_type": "display_data"
    }
   ],
   "source": [
    "import matplotlib.pyplot as plt\n",
    "from sklearn.svm import SVC\n",
    "from sklearn.model_selection import StratifiedKFold\n",
    "from sklearn.feature_selection import RFECV\n",
    "\n",
    "# Create the RFE object and compute a cross-validated score.\n",
    "svc = SVC(kernel=\"linear\")\n",
    "# The \"accuracy\" scoring is proportional to the number of correct\n",
    "# classifications\n",
    "rfecv = RFECV(estimator=svc, step=1, cv=StratifiedKFold(2),\n",
    "              scoring='accuracy')\n",
    "rfecv.fit(X, y.ravel())\n",
    "\n",
    "print(\"Optimal number of features : %d\" % rfecv.n_features_)\n",
    "\n",
    "# Plot number of features VS. cross-validation scores\n",
    "plt.figure()\n",
    "plt.xlabel(\"Number of features selected\")\n",
    "plt.ylabel(\"Cross validation score (nb of correct classifications)\")\n",
    "plt.plot(range(1, len(rfecv.grid_scores_) + 1), rfecv.grid_scores_)\n",
    "plt.show()"
   ]
  },
  {
   "cell_type": "markdown",
   "metadata": {},
   "source": [
    "### Chi-Square Selection"
   ]
  },
  {
   "cell_type": "code",
   "execution_count": 7,
   "metadata": {},
   "outputs": [
    {
     "data": {
      "text/plain": [
       "(1687, 20)"
      ]
     },
     "execution_count": 7,
     "metadata": {},
     "output_type": "execute_result"
    }
   ],
   "source": [
    "from sklearn.feature_selection import SelectKBest\n",
    "from sklearn.feature_selection import chi2\n",
    "\n",
    "X_new = SelectKBest(chi2, k=20).fit_transform(X, y)\n",
    "X_new.shape\n"
   ]
  },
  {
   "cell_type": "markdown",
   "metadata": {},
   "source": [
    "### L1-based feature selection"
   ]
  },
  {
   "cell_type": "code",
   "execution_count": 8,
   "metadata": {},
   "outputs": [
    {
     "data": {
      "text/plain": [
       "(1687, 4)"
      ]
     },
     "execution_count": 8,
     "metadata": {},
     "output_type": "execute_result"
    }
   ],
   "source": [
    "from sklearn.svm import LinearSVC\n",
    "from sklearn.feature_selection import SelectFromModel\n",
    "\n",
    "X.shape\n",
    "\n",
    "lsvc = LinearSVC(C=0.01, penalty=\"l1\", dual=False).fit(X, y.ravel())\n",
    "model_l1 = SelectFromModel(lsvc, prefit=True)\n",
    "X_newL1 = model_l1.transform(X)\n",
    "\n",
    "X_newL1.shape\n"
   ]
  },
  {
   "cell_type": "markdown",
   "metadata": {},
   "source": [
    "### Tree-based feature selection"
   ]
  },
  {
   "cell_type": "code",
   "execution_count": 9,
   "metadata": {},
   "outputs": [
    {
     "data": {
      "text/plain": [
       "(1687, 28)"
      ]
     },
     "execution_count": 9,
     "metadata": {},
     "output_type": "execute_result"
    }
   ],
   "source": [
    "from sklearn.ensemble import ExtraTreesClassifier\n",
    "from sklearn.feature_selection import SelectFromModel\n",
    "\n",
    "clf = ExtraTreesClassifier()\n",
    "clf = clf.fit(X, y.ravel())\n",
    "clf.feature_importances = feature_col_names\n",
    "model = SelectFromModel(clf, prefit=True)\n",
    "X_new = model.transform(X)\n",
    "X_new.shape  "
   ]
  }
 ],
 "metadata": {
  "kernelspec": {
   "display_name": "Python 3",
   "language": "python",
   "name": "python3"
  },
  "language_info": {
   "codemirror_mode": {
    "name": "ipython",
    "version": 3
   },
   "file_extension": ".py",
   "mimetype": "text/x-python",
   "name": "python",
   "nbconvert_exporter": "python",
   "pygments_lexer": "ipython3",
   "version": "3.5.6"
  }
 },
 "nbformat": 4,
 "nbformat_minor": 2
}
