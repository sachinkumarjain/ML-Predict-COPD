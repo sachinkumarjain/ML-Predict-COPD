{
 "cells": [
  {
   "cell_type": "markdown",
   "metadata": {},
   "source": [
    "# Predicting Condition Flare Up in Patients with Respiratory Disease History"
   ]
  },
  {
   "cell_type": "code",
   "execution_count": 1,
   "metadata": {},
   "outputs": [
    {
     "data": {
      "text/plain": [
       "(1687, 22)"
      ]
     },
     "execution_count": 1,
     "metadata": {},
     "output_type": "execute_result"
    }
   ],
   "source": [
    "import pandas as pd                         # pandas is a dataframe library\n",
    "import matplotlib.pyplot as plt             # matplotlib.pyplot plots data\n",
    "import numpy as np                          # numpy provides N-dim object support\n",
    "\n",
    "# do ploting inpline instead of in a separate window\n",
    "%matplotlib inline\n",
    "\n",
    "df = pd.read_csv(r'training_data.csv') # load the development data\n",
    "df_score = pd.read_csv(r'scoring_data.csv')\n",
    "feature_col_names = ['Demo1','Demo2','Demo3','Demo4','Demo5','Demo6','DisHis1','DisHis1Times','DisHis2','DisHis2Times','DisHis3','DisHis3Times','DisHis4','DisHis5','DisHis6','DisHis7','DisStage1','DisStage2','LungFun1','LungFun10','LungFun11','LungFun12','LungFun13','LungFun14','LungFun15','LungFun16','LungFun17','LungFun18','LungFun19','LungFun2','LungFun20','LungFun3','LungFun4','LungFun5','LungFun6','LungFun7','LungFun8','LungFun9','Dis1','Dis1Treat','Dis2','Dis2Times','Dis3','Dis3Times','Dis4','Dis4Treat','Dis5','Dis5Treat','Dis6','Dis6Treat','Dis7','RespQues1','ResQues1a','ResQues1b','ResQues1c','ResQues2a','SmokHis1','SmokHis2','SmokHis3','SmokHis4']\n",
    "['DisHis1', 'DisHis1Times', 'DisHis2', 'DisHis2Times', 'DisHis3', 'DisHis3Times', 'DisHis4', 'DisHis5', 'DisHis6', 'DisHis7', 'DisStage1', 'DisStage2', 'LungFun1', 'LungFun12', 'LungFun13', 'LungFun14', 'LungFun3', 'LungFun4', 'LungFun7', 'LungFun8', 'LungFun9', 'Dis1Treat', 'Dis2Times', 'Dis3Times', 'Dis4Treat', 'Dis5Treat', 'Dis6Treat', 'RespQues1', 'ResQues1a', 'ResQues1b', 'ResQues1c', 'ResQues2a']\n",
    "\n",
    "# Feature selection by using F_scores or regression_f or f_classif\n",
    "#feature_selected_names = ['DisHis1', 'DisHis1Times', 'DisHis2', 'DisHis2Times', 'DisHis3', 'DisHis3Times', 'DisHis4', 'DisHis5', 'DisHis6', 'DisHis7', 'DisStage1', 'DisStage2', 'LungFun1', 'LungFun12', 'LungFun13', 'LungFun14', 'LungFun3', 'LungFun4', 'LungFun7', 'LungFun8', 'LungFun9', 'Dis1Treat', 'Dis2Times', 'Dis3Times', 'Dis4Treat', 'Dis5Treat', 'Dis6Treat', 'RespQues1', 'ResQues1a', 'ResQues1b', 'ResQues1c', 'ResQues2a']\n",
    "\n",
    "feature_selected_names = ['DisHis1', 'DisHis1Times', 'DisHis2', 'DisHis2Times', 'DisHis3', 'DisHis3Times', 'DisHis4', 'DisHis5', 'DisHis6', 'DisHis7', 'DisStage2', 'LungFun1', 'LungFun12', 'LungFun4', 'LungFun9', 'Dis2Times', 'Dis6Treat', 'RespQues1', 'ResQues1a', 'ResQues1b', 'ResQues1c', 'ResQues2a']\n",
    "\n",
    "predicated_class_name = ['Flare_Up']\n",
    "\n",
    "data = df[feature_selected_names].values                # predicator feature columns (22 x m)\n",
    "target = df[predicated_class_name].values\n",
    "\n",
    "score_data = df_score[feature_selected_names].values \n",
    "\n",
    "X, y, Z = data, target, score_data\n",
    "\n",
    "X.shape \n"
   ]
  },
  {
   "cell_type": "code",
   "execution_count": 2,
   "metadata": {},
   "outputs": [
    {
     "data": {
      "text/plain": [
       "(298, 22)"
      ]
     },
     "execution_count": 2,
     "metadata": {},
     "output_type": "execute_result"
    }
   ],
   "source": [
    "Z.shape #score data"
   ]
  },
  {
   "cell_type": "markdown",
   "metadata": {},
   "source": [
    "#### Splitting the Training & Testing data"
   ]
  },
  {
   "cell_type": "code",
   "execution_count": 3,
   "metadata": {},
   "outputs": [
    {
     "data": {
      "text/plain": [
       "(1180, 22)"
      ]
     },
     "execution_count": 3,
     "metadata": {},
     "output_type": "execute_result"
    }
   ],
   "source": [
    "from sklearn.model_selection import train_test_split\n",
    "\n",
    "X_train, X_test, y_train, y_test = train_test_split(X, y, test_size=0.3)\n",
    "\n",
    "X_train.shape\n"
   ]
  },
  {
   "cell_type": "markdown",
   "metadata": {},
   "source": [
    "## Linear Regression"
   ]
  },
  {
   "cell_type": "code",
   "execution_count": 4,
   "metadata": {},
   "outputs": [
    {
     "data": {
      "text/plain": [
       "Text(0,0.5,'Predictions')"
      ]
     },
     "execution_count": 4,
     "metadata": {},
     "output_type": "execute_result"
    },
    {
     "data": {
      "image/png": "[encoded data removed]",
      "text/plain": [
       "<Figure size 432x288 with 1 Axes>"
      ]
     },
     "metadata": {
      "needs_background": "light"
     },
     "output_type": "display_data"
    }
   ],
   "source": [
    "from sklearn import linear_model\n",
    "from sklearn import metrics\n",
    "\n",
    "# fit a model\n",
    "model = linear_model.LinearRegression()\n",
    "model.fit(X, y.ravel())\n",
    "predict_test = model.predict(X_test)\n",
    "predict_train = model.predict(X_train)\n",
    "\n",
    "## The line / model\n",
    "plt.scatter(y_test, predict_test)\n",
    "plt.xlabel(\"True Values\")\n",
    "plt.ylabel(\"Predictions\")\n"
   ]
  },
  {
   "cell_type": "code",
   "execution_count": 5,
   "metadata": {},
   "outputs": [
    {
     "name": "stdout",
     "output_type": "stream",
     "text": [
      "Mean: 0.1298\n"
     ]
    }
   ],
   "source": [
    "# The mean square error\n",
    "np.mean((predict_test-y_test)**2)\n",
    "print(\"Mean: {0:.4f}\".format(np.mean((predict_test-y_test)**2)))"
   ]
  },
  {
   "cell_type": "code",
   "execution_count": 6,
   "metadata": {},
   "outputs": [
    {
     "name": "stdout",
     "output_type": "stream",
     "text": [
      "Score: 0.0949\n"
     ]
    }
   ],
   "source": [
    "#score\n",
    "\n",
    "print(\"Score: {0:.4f}\".format(model.score(X_test, y_test)))"
   ]
  },
  {
   "cell_type": "markdown",
   "metadata": {},
   "source": [
    "### Naive Bayes - GaussianNB [NB]\n",
    "\n",
    "#http://scikit-learn.org/stable/modules/generated/sklearn.naive_bayes.GaussianNB.html"
   ]
  },
  {
   "cell_type": "code",
   "execution_count": 7,
   "metadata": {},
   "outputs": [
    {
     "data": {
      "text/plain": [
       "Text(0,0.5,'Predictions')"
      ]
     },
     "execution_count": 7,
     "metadata": {},
     "output_type": "execute_result"
    },
    {
     "data": {
      "image/png": "[encoded data removed]",
      "text/plain": [
       "<Figure size 432x288 with 1 Axes>"
      ]
     },
     "metadata": {
      "needs_background": "light"
     },
     "output_type": "display_data"
    }
   ],
   "source": [
    "from sklearn.naive_bayes import GaussianNB\n",
    "\n",
    "nb_model = GaussianNB()\n",
    "nb_model.fit(X, y.ravel())\n",
    "GaussianNB(priors=None)\n",
    "nb_predict_test = nb_model.predict(X_test)\n",
    "\n",
    "## The line / model\n",
    "plt.scatter(y_test, nb_predict_test)\n",
    "plt.xlabel(\"True Values\")\n",
    "plt.ylabel(\"Predictions\")"
   ]
  },
  {
   "cell_type": "code",
   "execution_count": 8,
   "metadata": {},
   "outputs": [
    {
     "data": {
      "text/plain": [
       "Text(0,0.5,'Predictions')"
      ]
     },
     "execution_count": 8,
     "metadata": {},
     "output_type": "execute_result"
    },
    {
     "data": {
      "image/png": "[encoded data removed]",
      "text/plain": [
       "<Figure size 432x288 with 1 Axes>"
      ]
     },
     "metadata": {
      "needs_background": "light"
     },
     "output_type": "display_data"
    }
   ],
   "source": [
    "nb_predict_train = nb_model.predict(X_train)\n",
    "plt.scatter(y_train, nb_predict_train)\n",
    "plt.xlabel(\"True Values\")\n",
    "plt.ylabel(\"Predictions\")"
   ]
  },
  {
   "cell_type": "markdown",
   "metadata": {},
   "source": [
    "#### Performance of Testing & Training data for Naive Bayes"
   ]
  },
  {
   "cell_type": "code",
   "execution_count": 9,
   "metadata": {},
   "outputs": [
    {
     "name": "stdout",
     "output_type": "stream",
     "text": [
      "Accuracy: 0.7396\n"
     ]
    }
   ],
   "source": [
    "from sklearn import metrics\n",
    "\n",
    "#accuracy\n",
    "print(\"Accuracy: {0:.4f}\".format(metrics.accuracy_score(y_test, nb_predict_test)))"
   ]
  },
  {
   "cell_type": "code",
   "execution_count": 10,
   "metadata": {},
   "outputs": [
    {
     "name": "stdout",
     "output_type": "stream",
     "text": [
      "Accuracy: 0.7780\n"
     ]
    }
   ],
   "source": [
    "#accuracy\n",
    "print(\"Accuracy: {0:.4f}\".format(metrics.accuracy_score(y_train, nb_predict_train)))"
   ]
  },
  {
   "cell_type": "markdown",
   "metadata": {},
   "source": [
    "#### Confusion & Classification matrix for NB"
   ]
  },
  {
   "cell_type": "code",
   "execution_count": 11,
   "metadata": {},
   "outputs": [
    {
     "name": "stdout",
     "output_type": "stream",
     "text": [
      "Confusion matrix\n",
      "[[338 103]\n",
      " [ 29  37]]\n",
      "Classification Report\n",
      "             precision    recall  f1-score   support\n",
      "\n",
      "          0       0.92      0.77      0.84       441\n",
      "          1       0.26      0.56      0.36        66\n",
      "\n",
      "avg / total       0.84      0.74      0.77       507\n",
      "\n"
     ]
    }
   ],
   "source": [
    "print(\"Confusion matrix\")\n",
    "print(\"{0}\".format(metrics.confusion_matrix(y_test, nb_predict_test)))\n",
    "\n",
    "print(\"Classification Report\")\n",
    "print(\"{0}\".format(metrics.classification_report(y_test, nb_predict_test)))\n"
   ]
  },
  {
   "cell_type": "markdown",
   "metadata": {},
   "source": [
    "## Random Forest [RF]\n",
    "\n",
    "http://scikit-learn.org/stable/modules/generated/sklearn.ensemble.RandomForestClassifier.html"
   ]
  },
  {
   "cell_type": "code",
   "execution_count": 12,
   "metadata": {},
   "outputs": [
    {
     "data": {
      "text/plain": [
       "RandomForestClassifier(bootstrap=True, class_weight=None, criterion='gini',\n",
       "            max_depth=None, max_features='auto', max_leaf_nodes=None,\n",
       "            min_impurity_decrease=0.0, min_impurity_split=None,\n",
       "            min_samples_leaf=1, min_samples_split=2,\n",
       "            min_weight_fraction_leaf=0.0, n_estimators=10, n_jobs=1,\n",
       "            oob_score=False, random_state=42, verbose=0, warm_start=False)"
      ]
     },
     "execution_count": 12,
     "metadata": {},
     "output_type": "execute_result"
    }
   ],
   "source": [
    "from sklearn.ensemble import RandomForestClassifier\n",
    "rf_model = RandomForestClassifier(random_state=42)\n",
    "rf_model.fit(X_train, y_train.ravel())"
   ]
  },
  {
   "cell_type": "code",
   "execution_count": 13,
   "metadata": {},
   "outputs": [],
   "source": [
    "rf_predict_train = rf_model.predict(X_train)\n",
    "rf_predict_test = rf_model.predict(X_test)"
   ]
  },
  {
   "cell_type": "markdown",
   "metadata": {},
   "source": [
    "#### Performance of Testing & Training data for RF"
   ]
  },
  {
   "cell_type": "code",
   "execution_count": 14,
   "metadata": {},
   "outputs": [
    {
     "name": "stdout",
     "output_type": "stream",
     "text": [
      "Accuracy: 0.8659\n"
     ]
    }
   ],
   "source": [
    "from sklearn import metrics\n",
    "\n",
    "#accuracy\n",
    "print(\"Accuracy: {0:.4f}\".format(metrics.accuracy_score(y_test, rf_predict_test)))"
   ]
  },
  {
   "cell_type": "code",
   "execution_count": 15,
   "metadata": {},
   "outputs": [
    {
     "name": "stdout",
     "output_type": "stream",
     "text": [
      "Accuracy: 0.9873\n"
     ]
    }
   ],
   "source": [
    "#accuracy\n",
    "print(\"Accuracy: {0:.4f}\".format(metrics.accuracy_score(y_train, rf_predict_train)))"
   ]
  },
  {
   "cell_type": "markdown",
   "metadata": {},
   "source": [
    "#### Matrix"
   ]
  },
  {
   "cell_type": "code",
   "execution_count": 16,
   "metadata": {},
   "outputs": [
    {
     "name": "stdout",
     "output_type": "stream",
     "text": [
      "Confusion matrix\n",
      "[[430  11]\n",
      " [ 57   9]]\n",
      "Classification Report\n",
      "             precision    recall  f1-score   support\n",
      "\n",
      "          0       0.88      0.98      0.93       441\n",
      "          1       0.45      0.14      0.21        66\n",
      "\n",
      "avg / total       0.83      0.87      0.83       507\n",
      "\n"
     ]
    }
   ],
   "source": [
    "print(\"Confusion matrix\")\n",
    "print(\"{0}\".format(metrics.confusion_matrix(y_test, rf_predict_test)))\n",
    "\n",
    "print(\"Classification Report\")\n",
    "print(\"{0}\".format(metrics.classification_report(y_test, rf_predict_test)))"
   ]
  },
  {
   "cell_type": "markdown",
   "metadata": {},
   "source": [
    "## LogisticRegression[LR] - [Selected]\n",
    "\n",
    "http://scikit-learn.org/stable/modules/generated/sklearn.linear_model.LogisticRegression.html"
   ]
  },
  {
   "cell_type": "code",
   "execution_count": 17,
   "metadata": {},
   "outputs": [
    {
     "data": {
      "text/plain": [
       "LogisticRegression(C=0.3, class_weight='balanced', dual=False,\n",
       "          fit_intercept=True, intercept_scaling=1, max_iter=100,\n",
       "          multi_class='ovr', n_jobs=1, penalty='l2', random_state=42,\n",
       "          solver='liblinear', tol=0.0001, verbose=0, warm_start=False)"
      ]
     },
     "execution_count": 17,
     "metadata": {},
     "output_type": "execute_result"
    }
   ],
   "source": [
    "from sklearn.linear_model import LogisticRegression\n",
    "best_score_c_val = 0.3\n",
    "lr_model = LogisticRegression(C=best_score_c_val, class_weight=\"balanced\", random_state=42)\n",
    "lr_model.fit(X_train, y_train.ravel())"
   ]
  },
  {
   "cell_type": "code",
   "execution_count": 18,
   "metadata": {},
   "outputs": [],
   "source": [
    "lr_predict_train = lr_model.predict(X_train)\n",
    "lr_predict_test = lr_model.predict(X_test)"
   ]
  },
  {
   "cell_type": "markdown",
   "metadata": {},
   "source": [
    "#### Performance of Testing & Training data for LR"
   ]
  },
  {
   "cell_type": "code",
   "execution_count": 19,
   "metadata": {},
   "outputs": [
    {
     "name": "stdout",
     "output_type": "stream",
     "text": [
      "Accuracy: 0.6903\n"
     ]
    }
   ],
   "source": [
    "#accuracy\n",
    "print(\"Accuracy: {0:.4f}\".format(metrics.accuracy_score(y_test, lr_predict_test)))"
   ]
  },
  {
   "cell_type": "code",
   "execution_count": 20,
   "metadata": {},
   "outputs": [
    {
     "name": "stdout",
     "output_type": "stream",
     "text": [
      "Accuracy: 0.7390\n"
     ]
    }
   ],
   "source": [
    "#accuracy\n",
    "print(\"Accuracy: {0:.4f}\".format(metrics.accuracy_score(y_train, lr_predict_train)))"
   ]
  },
  {
   "cell_type": "markdown",
   "metadata": {},
   "source": [
    "#### Matrix [class_weight effect the recall from 0.04 to 0.60]"
   ]
  },
  {
   "cell_type": "code",
   "execution_count": 21,
   "metadata": {},
   "outputs": [
    {
     "name": "stdout",
     "output_type": "stream",
     "text": [
      "Confusion matrix\n",
      "[[311 130]\n",
      " [ 27  39]]\n",
      "Classification Report\n",
      "             precision    recall  f1-score   support\n",
      "\n",
      "          0       0.92      0.71      0.80       441\n",
      "          1       0.23      0.59      0.33        66\n",
      "\n",
      "avg / total       0.83      0.69      0.74       507\n",
      "\n"
     ]
    }
   ],
   "source": [
    "print(\"Confusion matrix\")\n",
    "print(\"{0}\".format(metrics.confusion_matrix(y_test, lr_predict_test)))\n",
    "\n",
    "print(\"Classification Report\")\n",
    "print(\"{0}\".format(metrics.classification_report(y_test, lr_predict_test)))"
   ]
  },
  {
   "cell_type": "markdown",
   "metadata": {},
   "source": [
    "## LogisticRegressionCV [LRCV] [Selected]"
   ]
  },
  {
   "cell_type": "code",
   "execution_count": 22,
   "metadata": {},
   "outputs": [
    {
     "data": {
      "text/plain": [
       "LogisticRegressionCV(Cs=3, class_weight='balanced', cv=10, dual=False,\n",
       "           fit_intercept=True, intercept_scaling=1.0, max_iter=100,\n",
       "           multi_class='ovr', n_jobs=-1, penalty='l2', random_state=42,\n",
       "           refit=False, scoring=None, solver='lbfgs', tol=0.0001,\n",
       "           verbose=0)"
      ]
     },
     "execution_count": 22,
     "metadata": {},
     "output_type": "execute_result"
    }
   ],
   "source": [
    "from sklearn.linear_model import LogisticRegressionCV\n",
    "lr_cv_model = LogisticRegressionCV(n_jobs=-1,Cs=3, cv=10, refit=False, class_weight=\"balanced\", random_state=42)\n",
    "lr_cv_model.fit(X_train, y_train.ravel())"
   ]
  },
  {
   "cell_type": "code",
   "execution_count": 23,
   "metadata": {},
   "outputs": [],
   "source": [
    "lr_cv_predict_train = lr_cv_model.predict(X_train)\n",
    "lr_cv_predict_test = lr_cv_model.predict(X_test)"
   ]
  },
  {
   "cell_type": "code",
   "execution_count": 24,
   "metadata": {},
   "outputs": [
    {
     "name": "stdout",
     "output_type": "stream",
     "text": [
      "Accuracy: 0.6844\n"
     ]
    }
   ],
   "source": [
    "#accuracy\n",
    "print(\"Accuracy: {0:.4f}\".format(metrics.accuracy_score(y_test, lr_cv_predict_test)))"
   ]
  },
  {
   "cell_type": "code",
   "execution_count": 25,
   "metadata": {},
   "outputs": [
    {
     "name": "stdout",
     "output_type": "stream",
     "text": [
      "Accuracy: 0.7424\n"
     ]
    }
   ],
   "source": [
    "#accuracy\n",
    "print(\"Accuracy: {0:.4f}\".format(metrics.accuracy_score(y_train, lr_cv_predict_train)))"
   ]
  },
  {
   "cell_type": "markdown",
   "metadata": {},
   "source": [
    "#### Matrix"
   ]
  },
  {
   "cell_type": "code",
   "execution_count": 26,
   "metadata": {},
   "outputs": [
    {
     "name": "stdout",
     "output_type": "stream",
     "text": [
      "Confusion matrix\n",
      "[[309 132]\n",
      " [ 28  38]]\n",
      "Classification Report\n",
      "             precision    recall  f1-score   support\n",
      "\n",
      "          0       0.92      0.70      0.79       441\n",
      "          1       0.22      0.58      0.32        66\n",
      "\n",
      "avg / total       0.83      0.68      0.73       507\n",
      "\n"
     ]
    }
   ],
   "source": [
    "print(\"Confusion matrix\")\n",
    "print(\"{0}\".format(metrics.confusion_matrix(y_test, lr_cv_predict_test)))\n",
    "\n",
    "print(\"Classification Report\")\n",
    "print(\"{0}\".format(metrics.classification_report(y_test, lr_cv_predict_test)))"
   ]
  },
  {
   "cell_type": "markdown",
   "metadata": {},
   "source": [
    "## Decision Tree"
   ]
  },
  {
   "cell_type": "code",
   "execution_count": 27,
   "metadata": {},
   "outputs": [],
   "source": [
    "from sklearn import tree\n",
    "tr_model = tree.DecisionTreeClassifier()\n",
    "tr_model.fit(X,y.ravel())\n",
    "\n",
    "tr_predict_train = tr_model.predict(X_train)\n",
    "tr_predict_test = tr_model.predict(X_test)"
   ]
  },
  {
   "cell_type": "code",
   "execution_count": 28,
   "metadata": {},
   "outputs": [
    {
     "name": "stdout",
     "output_type": "stream",
     "text": [
      "Accuracy: 1.0000\n"
     ]
    }
   ],
   "source": [
    "#accuracy\n",
    "print(\"Accuracy: {0:.4f}\".format(metrics.accuracy_score(y_test, tr_predict_test)))"
   ]
  },
  {
   "cell_type": "code",
   "execution_count": 29,
   "metadata": {},
   "outputs": [
    {
     "name": "stdout",
     "output_type": "stream",
     "text": [
      "Accuracy: 1.0000\n"
     ]
    }
   ],
   "source": [
    "#accuracy\n",
    "print(\"Accuracy: {0:.4f}\".format(metrics.accuracy_score(y_train, tr_predict_train)))"
   ]
  },
  {
   "cell_type": "code",
   "execution_count": 30,
   "metadata": {},
   "outputs": [
    {
     "name": "stdout",
     "output_type": "stream",
     "text": [
      "Confusion matrix\n",
      "[[441   0]\n",
      " [  0  66]]\n",
      "Classification Report\n",
      "             precision    recall  f1-score   support\n",
      "\n",
      "          0       1.00      1.00      1.00       441\n",
      "          1       1.00      1.00      1.00        66\n",
      "\n",
      "avg / total       1.00      1.00      1.00       507\n",
      "\n"
     ]
    }
   ],
   "source": [
    "print(\"Confusion matrix\")\n",
    "print(\"{0}\".format(metrics.confusion_matrix(y_test, tr_predict_test)))\n",
    "\n",
    "print(\"Classification Report\")\n",
    "print(\"{0}\".format(metrics.classification_report(y_test, tr_predict_test)))"
   ]
  },
  {
   "cell_type": "markdown",
   "metadata": {},
   "source": [
    "## KNN"
   ]
  },
  {
   "cell_type": "code",
   "execution_count": 31,
   "metadata": {},
   "outputs": [],
   "source": [
    "from sklearn.neighbors import KNeighborsClassifier\n",
    "knn_model = KNeighborsClassifier()\n",
    "knn_model.fit(X,y.ravel())\n",
    "\n",
    "knn_predict_train = knn_model.predict(X_train)\n",
    "knn_predict_test = knn_model.predict(X_test)"
   ]
  },
  {
   "cell_type": "code",
   "execution_count": 32,
   "metadata": {},
   "outputs": [
    {
     "name": "stdout",
     "output_type": "stream",
     "text": [
      "Accuracy: 0.8895\n"
     ]
    }
   ],
   "source": [
    "#accuracy\n",
    "print(\"Accuracy: {0:.4f}\".format(metrics.accuracy_score(y_test, knn_predict_test)))"
   ]
  },
  {
   "cell_type": "code",
   "execution_count": 33,
   "metadata": {},
   "outputs": [
    {
     "name": "stdout",
     "output_type": "stream",
     "text": [
      "Accuracy: 0.8975\n"
     ]
    }
   ],
   "source": [
    "#accuracy\n",
    "print(\"Accuracy: {0:.4f}\".format(metrics.accuracy_score(y_train, knn_predict_train)))"
   ]
  },
  {
   "cell_type": "code",
   "execution_count": 34,
   "metadata": {},
   "outputs": [
    {
     "name": "stdout",
     "output_type": "stream",
     "text": [
      "Confusion matrix\n",
      "[[437   4]\n",
      " [ 52  14]]\n",
      "Classification Report\n",
      "             precision    recall  f1-score   support\n",
      "\n",
      "          0       0.89      0.99      0.94       441\n",
      "          1       0.78      0.21      0.33        66\n",
      "\n",
      "avg / total       0.88      0.89      0.86       507\n",
      "\n"
     ]
    }
   ],
   "source": [
    "print(\"Confusion matrix\")\n",
    "print(\"{0}\".format(metrics.confusion_matrix(y_test, knn_predict_test)))\n",
    "\n",
    "print(\"Classification Report\")\n",
    "print(\"{0}\".format(metrics.classification_report(y_test, knn_predict_test)))"
   ]
  },
  {
   "cell_type": "markdown",
   "metadata": {},
   "source": [
    "## SVM"
   ]
  },
  {
   "cell_type": "code",
   "execution_count": 119,
   "metadata": {},
   "outputs": [],
   "source": [
    "from sklearn import svm\n",
    "svc_model = svm.SVC(kernel='linear', probability=True,class_weight=\"balanced\", coef0=0.1, random_state=42)\n",
    "svc_model.fit(X,y.ravel())\n",
    "\n",
    "svc_predict_train = knn_model.predict(X_train)\n",
    "svc_predict_test = knn_model.predict(X_test)"
   ]
  },
  {
   "cell_type": "code",
   "execution_count": 120,
   "metadata": {},
   "outputs": [
    {
     "name": "stdout",
     "output_type": "stream",
     "text": [
      "Accuracy: 0.8895\n"
     ]
    }
   ],
   "source": [
    "#accuracy\n",
    "print(\"Accuracy: {0:.4f}\".format(metrics.accuracy_score(y_test, svc_predict_test)))"
   ]
  },
  {
   "cell_type": "code",
   "execution_count": 121,
   "metadata": {},
   "outputs": [
    {
     "name": "stdout",
     "output_type": "stream",
     "text": [
      "Accuracy: 0.8975\n"
     ]
    }
   ],
   "source": [
    "#accuracy\n",
    "print(\"Accuracy: {0:.4f}\".format(metrics.accuracy_score(y_train, svc_predict_train)))"
   ]
  },
  {
   "cell_type": "code",
   "execution_count": 122,
   "metadata": {},
   "outputs": [
    {
     "name": "stdout",
     "output_type": "stream",
     "text": [
      "Confusion matrix\n",
      "[[437   4]\n",
      " [ 52  14]]\n",
      "Classification Report\n",
      "             precision    recall  f1-score   support\n",
      "\n",
      "          0       0.89      0.99      0.94       441\n",
      "          1       0.78      0.21      0.33        66\n",
      "\n",
      "avg / total       0.88      0.89      0.86       507\n",
      "\n"
     ]
    }
   ],
   "source": [
    "print(\"Confusion matrix\")\n",
    "print(\"{0}\".format(metrics.confusion_matrix(y_test, svc_predict_test)))\n",
    "\n",
    "print(\"Classification Report\")\n",
    "print(\"{0}\".format(metrics.classification_report(y_test, svc_predict_test)))"
   ]
  },
  {
   "cell_type": "markdown",
   "metadata": {},
   "source": [
    "## Gradient Boosting Classifier [GB]"
   ]
  },
  {
   "cell_type": "code",
   "execution_count": 39,
   "metadata": {},
   "outputs": [
    {
     "data": {
      "text/plain": [
       "GradientBoostingClassifier(criterion='friedman_mse', init=None,\n",
       "              learning_rate=0.1, loss='deviance', max_depth=3,\n",
       "              max_features=None, max_leaf_nodes=None,\n",
       "              min_impurity_decrease=0.0, min_impurity_split=None,\n",
       "              min_samples_leaf=1, min_samples_split=2,\n",
       "              min_weight_fraction_leaf=0.0, n_estimators=100,\n",
       "              presort='auto', random_state=42, subsample=1.0, verbose=0,\n",
       "              warm_start=False)"
      ]
     },
     "execution_count": 39,
     "metadata": {},
     "output_type": "execute_result"
    }
   ],
   "source": [
    "from sklearn.ensemble import GradientBoostingClassifier\n",
    "gb_model = GradientBoostingClassifier(random_state=42)\n",
    "gb_model.fit(X_train, y_train.ravel())"
   ]
  },
  {
   "cell_type": "code",
   "execution_count": 40,
   "metadata": {},
   "outputs": [],
   "source": [
    "gb_predict_train = gb_model.predict(X_train)\n",
    "gb_predict_test = gb_model.predict(X_test)"
   ]
  },
  {
   "cell_type": "code",
   "execution_count": 41,
   "metadata": {},
   "outputs": [
    {
     "name": "stdout",
     "output_type": "stream",
     "text": [
      "Accuracy: 0.8619\n"
     ]
    }
   ],
   "source": [
    "#accuracy\n",
    "print(\"Accuracy: {0:.4f}\".format(metrics.accuracy_score(y_test, gb_predict_test)))"
   ]
  },
  {
   "cell_type": "code",
   "execution_count": 42,
   "metadata": {},
   "outputs": [
    {
     "name": "stdout",
     "output_type": "stream",
     "text": [
      "Accuracy: 0.9525\n"
     ]
    }
   ],
   "source": [
    "#accuracy\n",
    "print(\"Accuracy: {0:.4f}\".format(metrics.accuracy_score(y_train, gb_predict_train)))"
   ]
  },
  {
   "cell_type": "code",
   "execution_count": 43,
   "metadata": {},
   "outputs": [
    {
     "name": "stdout",
     "output_type": "stream",
     "text": [
      "Confusion matrix\n",
      "[[420  21]\n",
      " [ 49  17]]\n",
      "Classification Report\n",
      "             precision    recall  f1-score   support\n",
      "\n",
      "          0       0.90      0.95      0.92       441\n",
      "          1       0.45      0.26      0.33        66\n",
      "\n",
      "avg / total       0.84      0.86      0.85       507\n",
      "\n"
     ]
    }
   ],
   "source": [
    "print(\"Confusion matrix\")\n",
    "print(\"{0}\".format(metrics.confusion_matrix(y_test, gb_predict_test)))\n",
    "\n",
    "print(\"Classification Report\")\n",
    "print(\"{0}\".format(metrics.classification_report(y_test, gb_predict_test)))"
   ]
  },
  {
   "cell_type": "markdown",
   "metadata": {},
   "source": [
    "## K-Means"
   ]
  },
  {
   "cell_type": "code",
   "execution_count": 138,
   "metadata": {},
   "outputs": [
    {
     "name": "stdout",
     "output_type": "stream",
     "text": [
      "Accuracy: 0.6509\n",
      "Accuracy: 0.6509\n",
      "Confusion matrix\n",
      "[[290 151]\n",
      " [ 26  40]]\n",
      "Classification Report\n",
      "             precision    recall  f1-score   support\n",
      "\n",
      "          0       0.92      0.66      0.77       441\n",
      "          1       0.21      0.61      0.31        66\n",
      "\n",
      "avg / total       0.83      0.65      0.71       507\n",
      "\n"
     ]
    }
   ],
   "source": [
    "from sklearn.cluster import KMeans\n",
    "kmeans = KMeans(n_clusters=2, random_state=0)\n",
    "km_model = kmeans.fit(X,y.ravel()) \n",
    "km_predict_test = km_model.predict(X_test)\n",
    "km_predict_train = km_model.predict(X_train)\n",
    "\n",
    "#accuracy\n",
    "print(\"Accuracy: {0:.4f}\".format(metrics.accuracy_score(y_test, km_predict_test)))\n",
    "print(\"Accuracy: {0:.4f}\".format(metrics.accuracy_score(y_test, km_predict_test)))\n",
    "\n",
    "print(\"Confusion matrix\")\n",
    "print(\"{0}\".format(metrics.confusion_matrix(y_test, km_predict_test)))\n",
    "\n",
    "print(\"Classification Report\")\n",
    "print(\"{0}\".format(metrics.classification_report(y_test, km_predict_test)))"
   ]
  },
  {
   "cell_type": "markdown",
   "metadata": {},
   "source": [
    "## Predictions for testing data"
   ]
  },
  {
   "cell_type": "code",
   "execution_count": 137,
   "metadata": {},
   "outputs": [
    {
     "data": {
      "image/png": "[encoded data removed]",
      "text/plain": [
       "<Figure size 432x288 with 1 Axes>"
      ]
     },
     "metadata": {
      "needs_background": "light"
     },
     "output_type": "display_data"
    }
   ],
   "source": [
    "objects = ('NB', 'LR', 'LRCV', 'KNN', 'SVC', 'GB', 'KM')\n",
    "y_pos = np.arange(len(objects))\n",
    "nb = metrics.accuracy_score(y_test, nb_predict_test)\n",
    "lr = metrics.accuracy_score(y_test, lr_predict_test)\n",
    "lr_cv = metrics.accuracy_score(y_test, lr_cv_predict_test)\n",
    "knn = metrics.accuracy_score(y_test, knn_predict_test)\n",
    "svc = metrics.accuracy_score(y_test, svc_predict_test)\n",
    "gb = metrics.accuracy_score(y_test, gb_predict_test)\n",
    "km = metrics.accuracy_score(y_test, km_predict_test)\n",
    "\n",
    "performance_test = [nb,lr,lr_cv,knn,svc,gb,km]\n",
    " \n",
    "plt.bar(y_pos, performance_test, align='center', alpha=0.5)\n",
    "plt.xticks(y_pos, objects)\n",
    "plt.ylabel('Performace - Accuracy')\n",
    "plt.title('Testing Predictions')\n",
    " \n",
    "plt.show()"
   ]
  },
  {
   "cell_type": "markdown",
   "metadata": {},
   "source": [
    "## Predictions for training data"
   ]
  },
  {
   "cell_type": "code",
   "execution_count": 139,
   "metadata": {},
   "outputs": [
    {
     "data": {
      "image/png": "[encoded data removed]",
      "text/plain": [
       "<Figure size 432x288 with 1 Axes>"
      ]
     },
     "metadata": {
      "needs_background": "light"
     },
     "output_type": "display_data"
    }
   ],
   "source": [
    "objects = ('NB', 'LR', 'LRCV', 'KNN', 'SVC', 'GB', 'KM')\n",
    "y_pos = np.arange(len(objects))\n",
    "nb = metrics.accuracy_score(y_train, nb_predict_train)\n",
    "lr = metrics.accuracy_score(y_train, lr_predict_train)\n",
    "lr_cv = metrics.accuracy_score(y_train, lr_cv_predict_train)\n",
    "knn = metrics.accuracy_score(y_train, knn_predict_train)\n",
    "svc = metrics.accuracy_score(y_train, svc_predict_train)\n",
    "gb = metrics.accuracy_score(y_train, gb_predict_train)\n",
    "km = metrics.accuracy_score(y_train, km_predict_train)\n",
    "\n",
    "performance_train = [nb,lr,lr_cv,knn,svc,gb,km]\n",
    " \n",
    "plt.bar(y_pos, performance_train, align='center', alpha=0.5)\n",
    "plt.xticks(y_pos, objects)\n",
    "plt.ylabel('Performace - Accuracy')\n",
    "plt.title('Training Predictions')\n",
    " \n",
    "plt.show()"
   ]
  },
  {
   "cell_type": "markdown",
   "metadata": {},
   "source": [
    "## Predict the Score data (no label data)"
   ]
  },
  {
   "cell_type": "code",
   "execution_count": 141,
   "metadata": {
    "scrolled": true
   },
   "outputs": [
    {
     "data": {
      "image/png": "[encoded data removed]",
      "text/plain": [
       "<Figure size 432x288 with 1 Axes>"
      ]
     },
     "metadata": {
      "needs_background": "light"
     },
     "output_type": "display_data"
    }
   ],
   "source": [
    "objects = ('NB', 'LR', 'LRCV', 'KNN', 'SVC', 'GB','KM')\n",
    "y_pos = np.arange(len(objects))\n",
    "\n",
    "nb = np.mean(nb_model.predict(Z))\n",
    "lr = np.mean(lr_model.predict(Z))\n",
    "lr_cv = np.mean(lr_cv_model.predict(Z))\n",
    "knn = np.mean(knn_model.predict(Z))\n",
    "svc = np.mean(svc_model.predict(Z))\n",
    "gb = np.mean(gb_model.predict(Z))\n",
    "km = np.mean(km_model.predict(Z))\n",
    "\n",
    "performance_new = [nb,lr,lr_cv,knn,svc,gb,km]\n",
    "\n",
    "plt.bar(y_pos,performance_new, align='center', alpha=0.5)\n",
    "plt.xticks(y_pos, objects)\n",
    "plt.ylabel('Mean - Predictions')\n",
    "plt.title('Testing Predictions')\n",
    " \n",
    "plt.show()"
   ]
  },
  {
   "cell_type": "code",
   "execution_count": null,
   "metadata": {},
   "outputs": [],
   "source": []
  }
 ],
 "metadata": {
  "kernelspec": {
   "display_name": "Python 3",
   "language": "python",
   "name": "python3"
  },
  "language_info": {
   "codemirror_mode": {
    "name": "ipython",
    "version": 3
   },
   "file_extension": ".py",
   "mimetype": "text/x-python",
   "name": "python",
   "nbconvert_exporter": "python",
   "pygments_lexer": "ipython3",
   "version": "3.5.6"
  }
 },
 "nbformat": 4,
 "nbformat_minor": 2
}
